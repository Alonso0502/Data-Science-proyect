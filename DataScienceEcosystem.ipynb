{
  "metadata": {
    "kernelspec": {
      "name": "python",
      "display_name": "Python (Pyodide)",
      "language": "python"
    },
    "language_info": {
      "codemirror_mode": {
        "name": "python",
        "version": 3
      },
      "file_extension": ".py",
      "mimetype": "text/x-python",
      "name": "python",
      "nbconvert_exporter": "python",
      "pygments_lexer": "ipython3",
      "version": "3.8"
    }
  },
  "nbformat_minor": 4,
  "nbformat": 4,
  "cells": [
    {
      "cell_type": "code",
      "source": "# Data Science Final Project\n\n## Introduction  \n#This notebook demonstrates key concepts in Data Science, covering tools, languages, and basic arithmetic operations.\n\n## Data Science Languages  \n- Python  \n- R  \n- SQL  \n- Julia  \n- Scala\n\n## Data Science Libraries  \n- NumPy  \n- Pandas  \n- Matplotlib  \n- SciPy  \n- Scikit-learn\n\n## Data Science Tools\nprint('| Jupyter | Notebook data analysis |')\nprint('| RStudio | IDE R |' )\nprint('| Apache Hadoop | Big data framework |')\n\n## Arithmetic Expressions  \nprint('Below are examples of simple arithmetic operations.')\n    \n# Multiplying and adding numbers\nresult = (3 * 4) + 5\nresult\n\n# Converting minutes to hours\nminutes = 200\nhours = minutes / 60\nhours\n\n## Objectives  \nprint('Understand basic Data Science tools ' )\nprint('Demonstrate simple arithmetic operations' ) \nprint('Share results through GitHub')\n\n## Author\nprint('Eduardo Gonzales')",
      "metadata": {
        "trusted": true
      },
      "outputs": [],
      "execution_count": null
    }
  ]
}